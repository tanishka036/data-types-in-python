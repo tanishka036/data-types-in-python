{
 "cells": [
  {
   "cell_type": "code",
   "execution_count": null,
   "id": "3ed3c86c-9a6c-4e2d-99db-721b235495ed",
   "metadata": {},
   "outputs": [],
   "source": []
  },
  {
   "cell_type": "code",
   "execution_count": 4,
   "id": "e86e2fe4-1cf5-4945-a6d3-62ae2c1198c4",
   "metadata": {},
   "outputs": [
    {
     "name": "stdout",
     "output_type": "stream",
     "text": [
      "<class 'int'>\n",
      "<class 'float'>\n",
      "<class 'complex'>\n"
     ]
    }
   ],
   "source": [
    "a = 5\n",
    "print(type(a))\n",
    "\n",
    "b = 5.0\n",
    "print(type(b))\n",
    "\n",
    "c = 2 + 4j\n",
    "print(type(c))"
   ]
  },
  {
   "cell_type": "code",
   "execution_count": 6,
   "id": "1e73d0f5-9889-49fc-bb14-7391dc2a71f9",
   "metadata": {},
   "outputs": [
    {
     "name": "stdout",
     "output_type": "stream",
     "text": [
      "Welcome to the Geeks World\n",
      "<class 'str'>\n",
      "e\n",
      "l\n",
      "d\n"
     ]
    }
   ],
   "source": [
    "s = 'Welcome to the Geeks World'\n",
    "print(s)\n",
    "\n",
    "# check data type \n",
    "print(type(s))\n",
    "\n",
    "# access string with index\n",
    "print(s[1])\n",
    "print(s[2])\n",
    "print(s[-1])"
   ]
  },
  {
   "cell_type": "code",
   "execution_count": 8,
   "id": "3065e4ff-ed6e-4049-8f60-924b4dff42a3",
   "metadata": {},
   "outputs": [
    {
     "name": "stdout",
     "output_type": "stream",
     "text": [
      "[1, 2, 3]\n",
      "['Geeks', 'For', 'Geeks', 4, 5]\n"
     ]
    }
   ],
   "source": [
    "# Empty list\n",
    "a = []\n",
    "\n",
    "# list with int values\n",
    "a = [1, 2, 3]\n",
    "print(a)\n",
    "\n",
    "# list with mixed int and string\n",
    "b = [\"Geeks\", \"For\", \"Geeks\", 4, 5]\n",
    "print(b)"
   ]
  },
  {
   "cell_type": "code",
   "execution_count": 10,
   "id": "dac01b28-80a1-4684-ad1e-a88fecde75bc",
   "metadata": {},
   "outputs": [
    {
     "name": "stdout",
     "output_type": "stream",
     "text": [
      "Accessing element from the list\n",
      "Geeks\n",
      "Geeks\n",
      "Accessing element using negative indexing\n",
      "Geeks\n",
      "Geeks\n"
     ]
    }
   ],
   "source": [
    "a = [\"Geeks\", \"For\", \"Geeks\"]\n",
    "print(\"Accessing element from the list\")\n",
    "print(a[0])\n",
    "print(a[2])\n",
    "\n",
    "print(\"Accessing element using negative indexing\")\n",
    "print(a[-1])\n",
    "print(a[-3])"
   ]
  },
  {
   "cell_type": "code",
   "execution_count": 12,
   "id": "1ca70654-1b08-4f20-97be-dd64755a56b8",
   "metadata": {},
   "outputs": [
    {
     "name": "stdout",
     "output_type": "stream",
     "text": [
      "\n",
      "Tuple with the use of String:  ('Geeks', 'For')\n"
     ]
    }
   ],
   "source": [
    "# initiate empty tuple\n",
    "t1 = ()\n",
    "\n",
    "t2 = ('Geeks', 'For')\n",
    "print(\"\\nTuple with the use of String: \", t2)"
   ]
  },
  {
   "cell_type": "code",
   "execution_count": 14,
   "id": "bc5a797f-57ad-47ec-a2b3-4187b9259cb7",
   "metadata": {},
   "outputs": [
    {
     "name": "stdout",
     "output_type": "stream",
     "text": [
      "1\n",
      "5\n",
      "3\n"
     ]
    }
   ],
   "source": [
    "t1 = tuple([1, 2, 3, 4, 5])\n",
    "\n",
    "# access tuple items\n",
    "print(t1[0])\n",
    "print(t1[-1])\n",
    "print(t1[-3])"
   ]
  },
  {
   "cell_type": "code",
   "execution_count": 16,
   "id": "2c6ca467-7c40-4ef4-b3ea-c2d2356a679b",
   "metadata": {},
   "outputs": [
    {
     "name": "stdout",
     "output_type": "stream",
     "text": [
      "<class 'bool'>\n",
      "<class 'bool'>\n"
     ]
    },
    {
     "ename": "NameError",
     "evalue": "name 'true' is not defined",
     "output_type": "error",
     "traceback": [
      "\u001b[1;31m---------------------------------------------------------------------------\u001b[0m",
      "\u001b[1;31mNameError\u001b[0m                                 Traceback (most recent call last)",
      "Cell \u001b[1;32mIn[16], line 3\u001b[0m\n\u001b[0;32m      1\u001b[0m \u001b[38;5;28mprint\u001b[39m(\u001b[38;5;28mtype\u001b[39m(\u001b[38;5;28;01mTrue\u001b[39;00m))\n\u001b[0;32m      2\u001b[0m \u001b[38;5;28mprint\u001b[39m(\u001b[38;5;28mtype\u001b[39m(\u001b[38;5;28;01mFalse\u001b[39;00m))\n\u001b[1;32m----> 3\u001b[0m \u001b[38;5;28mprint\u001b[39m(\u001b[38;5;28mtype\u001b[39m(true))\n",
      "\u001b[1;31mNameError\u001b[0m: name 'true' is not defined"
     ]
    }
   ],
   "source": [
    "print(type(True))\n",
    "print(type(False))\n",
    "print(type(true))"
   ]
  },
  {
   "cell_type": "code",
   "execution_count": 18,
   "id": "56f8fd8f-6811-45b4-8931-37d0b6ac5309",
   "metadata": {},
   "outputs": [
    {
     "name": "stdout",
     "output_type": "stream",
     "text": [
      "Set with the use of String:  {'F', 's', 'o', 'G', 'k', 'r', 'e'}\n",
      "Set with the use of List:  {'Geeks', 'For'}\n"
     ]
    }
   ],
   "source": [
    "# initializing empty set\n",
    "s1 = set()\n",
    "\n",
    "s1 = set(\"GeeksForGeeks\")\n",
    "print(\"Set with the use of String: \", s1)\n",
    "\n",
    "s2 = set([\"Geeks\", \"For\", \"Geeks\"])\n",
    "print(\"Set with the use of List: \", s2)"
   ]
  },
  {
   "cell_type": "code",
   "execution_count": 20,
   "id": "c23f21af-5f17-4700-9c2e-5ad6305b7df1",
   "metadata": {},
   "outputs": [
    {
     "name": "stdout",
     "output_type": "stream",
     "text": [
      "{'Geeks', 'For'}\n",
      "Geeks For True\n"
     ]
    }
   ],
   "source": [
    "set1 = set([\"Geeks\", \"For\", \"Geeks\"])\n",
    "print(set1)\n",
    "\n",
    "# loop through set\n",
    "for i in set1:\n",
    "    print(i, end=\" \")\n",
    "    \n",
    "# check if item exist in set    \n",
    "print(\"Geeks\" in set1)"
   ]
  },
  {
   "cell_type": "code",
   "execution_count": 22,
   "id": "d263d081-b7d3-4ff2-96ae-420fa231dc71",
   "metadata": {},
   "outputs": [
    {
     "name": "stdout",
     "output_type": "stream",
     "text": [
      "{1: 'Geeks', 2: 'For', 3: 'Geeks'}\n",
      "{1: 'Geeks', 2: 'For', 3: 'Geeks'}\n"
     ]
    }
   ],
   "source": [
    "# initialize empty dictionary\n",
    "d = {}\n",
    "\n",
    "\n",
    "d = {1: 'Geeks', 2: 'For', 3: 'Geeks'}\n",
    "print(d)\n",
    "\n",
    "# creating dictionary using dict() constructor\n",
    "d1 = dict({1: 'Geeks', 2: 'For', 3: 'Geeks'})\n",
    "print(d1)"
   ]
  },
  {
   "cell_type": "code",
   "execution_count": 24,
   "id": "7d7064a1-6b5e-4fe8-ad3d-50cb5ff5a596",
   "metadata": {},
   "outputs": [
    {
     "name": "stdout",
     "output_type": "stream",
     "text": [
      "For\n",
      "Geeks\n"
     ]
    }
   ],
   "source": [
    "d = {1: 'Geeks', 'name': 'For', 3: 'Geeks'}\n",
    "\n",
    "# Accessing an element using key\n",
    "print(d['name'])\n",
    "\n",
    "# Accessing a element using get\n",
    "print(d.get(3))"
   ]
  },
  {
   "cell_type": "code",
   "execution_count": null,
   "id": "f45622bc-70cc-474e-bbc3-ea5168dff3bb",
   "metadata": {},
   "outputs": [],
   "source": []
  }
 ],
 "metadata": {
  "kernelspec": {
   "display_name": "Python [conda env:base] *",
   "language": "python",
   "name": "conda-base-py"
  },
  "language_info": {
   "codemirror_mode": {
    "name": "ipython",
    "version": 3
   },
   "file_extension": ".py",
   "mimetype": "text/x-python",
   "name": "python",
   "nbconvert_exporter": "python",
   "pygments_lexer": "ipython3",
   "version": "3.12.7"
  }
 },
 "nbformat": 4,
 "nbformat_minor": 5
}
